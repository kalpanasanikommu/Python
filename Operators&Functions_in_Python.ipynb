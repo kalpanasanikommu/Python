{
 "cells": [
  {
   "cell_type": "markdown",
   "metadata": {},
   "source": [
    "# Operators in python\n",
    "-- Operators are special symbols in python which are used to perform operations on variables\\values"
   ]
  },
  {
   "cell_type": "markdown",
   "metadata": {},
   "source": [
    "### Arithmetic operators"
   ]
  },
  {
   "cell_type": "code",
   "execution_count": 3,
   "metadata": {},
   "outputs": [
    {
     "name": "stdout",
     "output_type": "stream",
     "text": [
      " Addition of a and b is 30\n",
      " Substraction of a from b is 10\n"
     ]
    }
   ],
   "source": [
    "a = 10\n",
    "b= 20\n",
    "\n",
    "# Addition : \"+ operator\"\n",
    "c =a+b\n",
    "\n",
    "print(f\" Addition of a and b will give {c}\")\n",
    "\n",
    "# Substraction : \" - operator\"\n",
    "c = b-a\n",
    "\n",
    "print(f\" Substraction of a from b will give {c}\")"
   ]
  },
  {
   "cell_type": "code",
   "execution_count": 4,
   "metadata": {},
   "outputs": [
    {
     "name": "stdout",
     "output_type": "stream",
     "text": [
      " Multiplying of a and b will give 20\n",
      " Dividing of b and a will give 5.0\n"
     ]
    }
   ],
   "source": [
    "a = 2\n",
    "b= 10\n",
    "\n",
    "# Multiplication : \" * operator\"\n",
    "c = b*a\n",
    "\n",
    "print(f\" Multiplying of a and b will give {c}\")\n",
    "\n",
    "\n",
    "\n",
    "# Division : \" / operator\"\n",
    "c = b/a\n",
    "\n",
    "print(f\" Dividing of b and a will give {c}\")\n",
    "\n"
   ]
  },
  {
   "cell_type": "code",
   "execution_count": 7,
   "metadata": {},
   "outputs": [
    {
     "name": "stdout",
     "output_type": "stream",
     "text": [
      "2\n",
      "20 power 3 is 8000\n",
      " Floor Division of b by a will give 6\n"
     ]
    }
   ],
   "source": [
    "a = 20\n",
    "b= 3\n",
    "\n",
    "# Modulus: \"  % operator\"\n",
    "c = a%b\n",
    "\n",
    "print(c)\n",
    "\n",
    "# Power : \" ** operator\"\n",
    "\n",
    "c = a**b\n",
    "print(f'20 power 3 is {c}')\n",
    "\n",
    "\n",
    "\n",
    "# Floor Division : \" // operator\"\n",
    "c = a//b\n",
    "\n",
    "print(f\" Floor Division of b by a will give {c}\")"
   ]
  },
  {
   "cell_type": "markdown",
   "metadata": {},
   "source": [
    "### Comparision Operators"
   ]
  },
  {
   "cell_type": "code",
   "execution_count": 9,
   "metadata": {},
   "outputs": [
    {
     "name": "stdout",
     "output_type": "stream",
     "text": [
      "Is x greater than y : False\n",
      "\n",
      "Is x less than y :  True\n",
      "\n",
      "Is x equal to y : False\n",
      "\n",
      "Is x not equal to y : True\n",
      "\n",
      "Is x greater than or equal to y :  False\n",
      "\n",
      "Is x less than or equal to y :  True\n"
     ]
    }
   ],
   "source": [
    "x = 20\n",
    "y = 30\n",
    "print('Is x greater than y :',x>y)\n",
    "print('\\nIs x less than y : ',x<y)\n",
    "print('\\nIs x equal to y :',x==y)\n",
    "print('\\nIs x not equal to y :',x!=y)\n",
    "print('\\nIs x greater than or equal to y : ',x>=y)\n",
    "print('\\nIs x less than or equal to y : ',x<=y)"
   ]
  },
  {
   "cell_type": "markdown",
   "metadata": {},
   "source": [
    "### Logical Operators"
   ]
  },
  {
   "cell_type": "code",
   "execution_count": 10,
   "metadata": {},
   "outputs": [
    {
     "name": "stdout",
     "output_type": "stream",
     "text": [
      "Logical AND operation :-  False\n",
      "Logical OR operation :-  True\n",
      "NOT operation :-  False\n"
     ]
    }
   ],
   "source": [
    "x = True\n",
    "y = False\n",
    "print('Logical AND operation :- ',x and y) # True if both values are true\n",
    "print('Logical OR operation :- ',x or y) # True if either of the values is true\n",
    "print('NOT operation :- ',not x ) # True if operand is false"
   ]
  },
  {
   "cell_type": "markdown",
   "metadata": {},
   "source": [
    "### Bitwise operators"
   ]
  },
  {
   "cell_type": "code",
   "execution_count": 13,
   "metadata": {},
   "outputs": [
    {
     "name": "stdout",
     "output_type": "stream",
     "text": [
      "Bitwise AND operation - 2\n",
      "Bitwise OR operation - 22\n",
      "Bitwise XOR operation - 20\n",
      "Bitwise NOT operation - -19\n",
      "Bitwise right shift operation - 4\n",
      "Bitwise left shift operation - 72\n"
     ]
    }
   ],
   "source": [
    "\n",
    "\n",
    "x = 18 # binary form 10010\n",
    "y = 6 # binary form 00110\n",
    "print('Bitwise AND operation - {}'.format(x&y))\n",
    "print('Bitwise OR operation - {}'.format(x|y))\n",
    "print('Bitwise XOR operation - {}'.format(x^y))\n",
    "print('Bitwise NOT operation - {}'.format(~x))\n",
    "print('Bitwise right shift operation - {}'.format(x>>2))\n",
    "print('Bitwise left shift operation - {}'.format(x<<2))"
   ]
  },
  {
   "cell_type": "markdown",
   "metadata": {},
   "source": [
    "### Assignment operators"
   ]
  },
  {
   "cell_type": "code",
   "execution_count": 15,
   "metadata": {},
   "outputs": [
    {
     "name": "stdout",
     "output_type": "stream",
     "text": [
      "Initialize x with value 10 (x=10)) :-  10\n",
      "Add 20 to x :-  30\n",
      "subtract 20 from x :-  10\n",
      "Divide x by 10 :-  1.0\n",
      "Multiply x by 10 :-  10.0\n",
      "x raised to the power 2 :-  100\n",
      "Modulo Division :-  0\n"
     ]
    }
   ],
   "source": [
    "x = 10\n",
    "print('Initialize x with value 10 (x=10)) :- ',x)\n",
    "x+=20 # x = x+20\n",
    "print ('Add 20 to x :- ',x)\n",
    "x-=20 # x = x-20\n",
    "print ('subtract 20 from x :- ',x)\n",
    "x/=10 # x = x/10\n",
    "print ('Divide x by 10 :- ',x)\n",
    "x*=10 # x = x*10\n",
    "print ('Multiply x by 10 :- ',x)\n",
    "x = int(x)\n",
    "x**=2 # x = x**2\n",
    "print ('x raised to the power 2 :- ',x)\n",
    "x%=2\n",
    "print ('Modulo Division :- ',x)"
   ]
  },
  {
   "cell_type": "markdown",
   "metadata": {},
   "source": [
    "### Membership operators"
   ]
  },
  {
   "cell_type": "code",
   "execution_count": 17,
   "metadata": {},
   "outputs": [
    {
     "data": {
      "text/plain": [
       "(True, False)"
      ]
     },
     "execution_count": 17,
     "metadata": {},
     "output_type": "execute_result"
    }
   ],
   "source": [
    "str1 = \"my name is AMAR\"\n",
    "\n",
    "\"name\" in str1 ,\"age\" in str1"
   ]
  },
  {
   "cell_type": "code",
   "execution_count": 18,
   "metadata": {},
   "outputs": [
    {
     "data": {
      "text/plain": [
       "True"
      ]
     },
     "execution_count": 18,
     "metadata": {},
     "output_type": "execute_result"
    }
   ],
   "source": [
    "\"age\" not in str1"
   ]
  },
  {
   "cell_type": "markdown",
   "metadata": {},
   "source": [
    "# Functions in Python"
   ]
  },
  {
   "cell_type": "markdown",
   "metadata": {},
   "source": [
    "### Introduction to python\n",
    "A function is a block of code that performs a specific task.Functions help in organizing code, reusing code and improving readability."
   ]
  },
  {
   "cell_type": "code",
   "execution_count": null,
   "metadata": {},
   "outputs": [],
   "source": [
    "# syntax\n",
    "\n",
    "def function_name(parameters):\n",
    "    \"\"\"Docstring\"\"\"\n",
    "    #function body\n",
    "    return expression"
   ]
  },
  {
   "cell_type": "code",
   "execution_count": 19,
   "metadata": {},
   "outputs": [
    {
     "name": "stdout",
     "output_type": "stream",
     "text": [
      "the number is even\n"
     ]
    }
   ],
   "source": [
    "# Why function - code reusability\n",
    "\n",
    "num = 20\n",
    "if num%2 == 0:\n",
    "    print(\"the number is even\")\n",
    "else:\n",
    "    print(\"the number is odd\")"
   ]
  },
  {
   "cell_type": "code",
   "execution_count": 20,
   "metadata": {},
   "outputs": [],
   "source": [
    "# Function\n",
    "\n",
    "def even_or_odd(num):\n",
    "    \"\"\"this function finds num is even or odd\"\"\"\n",
    "    if num%2 == 0:\n",
    "       print(\"the number is even\")\n",
    "    else:\n",
    "       print(\"the number is odd\") "
   ]
  },
  {
   "cell_type": "code",
   "execution_count": 21,
   "metadata": {},
   "outputs": [
    {
     "name": "stdout",
     "output_type": "stream",
     "text": [
      "the number is even\n"
     ]
    }
   ],
   "source": [
    "## Call the function\n",
    "even_or_odd(28)"
   ]
  },
  {
   "cell_type": "code",
   "execution_count": 22,
   "metadata": {},
   "outputs": [
    {
     "name": "stdout",
     "output_type": "stream",
     "text": [
      "the number is odd\n"
     ]
    }
   ],
   "source": [
    "even_or_odd(85)"
   ]
  },
  {
   "cell_type": "code",
   "execution_count": 23,
   "metadata": {},
   "outputs": [
    {
     "name": "stdout",
     "output_type": "stream",
     "text": [
      "11\n"
     ]
    }
   ],
   "source": [
    "### Function with Multiple parameters\n",
    "\n",
    "def add(a,b):\n",
    "    return a+b\n",
    "result =add(5,6)\n",
    "print(result)"
   ]
  },
  {
   "cell_type": "code",
   "execution_count": 31,
   "metadata": {},
   "outputs": [
    {
     "name": "stdout",
     "output_type": "stream",
     "text": [
      "Hello kalpana\n"
     ]
    }
   ],
   "source": [
    "\n",
    "def greet(name):\n",
    "\n",
    "    print(f\"Hello {name}\")\n",
    "\n",
    "greet(\"kalpana\")   "
   ]
  },
  {
   "cell_type": "code",
   "execution_count": 32,
   "metadata": {},
   "outputs": [
    {
     "ename": "TypeError",
     "evalue": "greet() missing 1 required positional argument: 'name'",
     "output_type": "error",
     "traceback": [
      "\u001b[1;31m---------------------------------------------------------------------------\u001b[0m",
      "\u001b[1;31mTypeError\u001b[0m                                 Traceback (most recent call last)",
      "Cell \u001b[1;32mIn[32], line 5\u001b[0m\n\u001b[0;32m      1\u001b[0m \u001b[38;5;28;01mdef\u001b[39;00m \u001b[38;5;21mgreet\u001b[39m(name):\n\u001b[0;32m      3\u001b[0m     \u001b[38;5;28mprint\u001b[39m(\u001b[38;5;124mf\u001b[39m\u001b[38;5;124m\"\u001b[39m\u001b[38;5;124mHello \u001b[39m\u001b[38;5;132;01m{\u001b[39;00mname\u001b[38;5;132;01m}\u001b[39;00m\u001b[38;5;124m\"\u001b[39m)\n\u001b[1;32m----> 5\u001b[0m \u001b[43mgreet\u001b[49m\u001b[43m(\u001b[49m\u001b[43m)\u001b[49m   \n",
      "\u001b[1;31mTypeError\u001b[0m: greet() missing 1 required positional argument: 'name'"
     ]
    }
   ],
   "source": [
    "def greet(name):\n",
    "\n",
    "    print(f\"Hello {name}\")\n",
    "\n",
    "greet()   "
   ]
  },
  {
   "cell_type": "code",
   "execution_count": 33,
   "metadata": {},
   "outputs": [
    {
     "name": "stdout",
     "output_type": "stream",
     "text": [
      "Hello Guest welcome\n"
     ]
    }
   ],
   "source": [
    "## Default Parameters\n",
    "def greet(name = \"Guest\"):\n",
    "\n",
    "    print(f\"Hello {name} welcome\")\n",
    "\n",
    "greet()   "
   ]
  },
  {
   "cell_type": "code",
   "execution_count": 34,
   "metadata": {},
   "outputs": [],
   "source": [
    "# Positional arguments - many number of parameters\n",
    "def print_numbers(*args):\n",
    "    for numbers in args:\n",
    "        print(numbers)"
   ]
  },
  {
   "cell_type": "code",
   "execution_count": 36,
   "metadata": {},
   "outputs": [
    {
     "name": "stdout",
     "output_type": "stream",
     "text": [
      "10\n",
      "20\n",
      "3\n",
      "30\n",
      "40\n",
      "12\n",
      "45\n",
      "50\n"
     ]
    }
   ],
   "source": [
    "print_numbers(10,20,3,30,40,12,45,50)"
   ]
  },
  {
   "cell_type": "code",
   "execution_count": 41,
   "metadata": {},
   "outputs": [],
   "source": [
    "## Keyword arguments\n",
    "\n",
    "def print_details(**kwargs):\n",
    "    for key,value in kwargs.items():\n",
    "        print(f'{key}:{value}')"
   ]
  },
  {
   "cell_type": "code",
   "execution_count": 42,
   "metadata": {},
   "outputs": [
    {
     "name": "stdout",
     "output_type": "stream",
     "text": [
      "name:kalpana\n",
      "id:1001\n"
     ]
    }
   ],
   "source": [
    "print_details(name = \"kalpana\",id = \"1001\")"
   ]
  },
  {
   "cell_type": "code",
   "execution_count": 43,
   "metadata": {},
   "outputs": [],
   "source": [
    "def print_both(*args,**kwargs):\n",
    "    for val in args:\n",
    "        print(f'Positional argument:{val}')\n",
    "\n",
    "    for key,value in kwargs.items():\n",
    "        print(f'{key}:{value}')"
   ]
  },
  {
   "cell_type": "code",
   "execution_count": 44,
   "metadata": {},
   "outputs": [
    {
     "name": "stdout",
     "output_type": "stream",
     "text": [
      "Positional argument:1\n",
      "Positional argument:2\n",
      "Positional argument:3\n",
      "name:ravi\n",
      "age:20\n"
     ]
    }
   ],
   "source": [
    "print_both(1,2,3,name = \"ravi\",age = \"20\")"
   ]
  },
  {
   "cell_type": "code",
   "execution_count": 46,
   "metadata": {},
   "outputs": [
    {
     "data": {
      "text/plain": [
       "10"
      ]
     },
     "execution_count": 46,
     "metadata": {},
     "output_type": "execute_result"
    }
   ],
   "source": [
    "# return multiple parameters\n",
    "\n",
    "def multiply(a,b):\n",
    "    return a*b\n",
    "multiply(2,5)"
   ]
  },
  {
   "cell_type": "markdown",
   "metadata": {},
   "source": [
    "## Temparature Conversion"
   ]
  },
  {
   "cell_type": "code",
   "execution_count": 1,
   "metadata": {},
   "outputs": [],
   "source": [
    "def convert_temparature(temp,unit):\n",
    "    '''this function convert temparature between celcius and farenheit'''\n",
    "    if unit =='C':\n",
    "        return temp * 9/5 + 32 #celcius to farenheit\n",
    "    elif unit =='F':\n",
    "        return (temp-32)*5/9 # Farenheit to celcius\n",
    "    else:\n",
    "        return None"
   ]
  },
  {
   "cell_type": "code",
   "execution_count": 3,
   "metadata": {},
   "outputs": [
    {
     "name": "stdout",
     "output_type": "stream",
     "text": [
      "77.0\n"
     ]
    }
   ],
   "source": [
    "print(convert_temparature(25,'C'))"
   ]
  },
  {
   "cell_type": "code",
   "execution_count": 4,
   "metadata": {},
   "outputs": [
    {
     "name": "stdout",
     "output_type": "stream",
     "text": [
      "25.0\n"
     ]
    }
   ],
   "source": [
    "print(convert_temparature(77,'F'))"
   ]
  },
  {
   "cell_type": "markdown",
   "metadata": {},
   "source": [
    "### Password strength checker"
   ]
  },
  {
   "cell_type": "code",
   "execution_count": 5,
   "metadata": {
    "scrolled": true
   },
   "outputs": [
    {
     "name": "stdout",
     "output_type": "stream",
     "text": [
      "False\n",
      "True\n"
     ]
    }
   ],
   "source": [
    "def is_strong_password(password):\n",
    "    if len(password)<8:\n",
    "        return False\n",
    "    if not any(char.isdigit() for char in password):\n",
    "        return False\n",
    "    if not any (char.islower() for char in password):\n",
    "        return False\n",
    "    if not any(char.isupper() for char in password):\n",
    "        return False\n",
    "    if not any(char in '!@#$%^&*()_+' for char in password):\n",
    "        return False\n",
    "    return True\n",
    "## calling the function\n",
    "print(is_strong_password(\"Kalpana22\"))\n",
    "print(is_strong_password(\"Kalpana22#\"))"
   ]
  },
  {
   "cell_type": "markdown",
   "metadata": {},
   "source": [
    "### Calculate the total cost of items in a Shopping Cart"
   ]
  },
  {
   "cell_type": "code",
   "execution_count": 7,
   "metadata": {},
   "outputs": [
    {
     "name": "stdout",
     "output_type": "stream",
     "text": [
      "4.0\n"
     ]
    }
   ],
   "source": [
    "def calculate_total_cost(cart):\n",
    "    total_cost = 0\n",
    "    for item in cart:\n",
    "        total_cost+=item['Price']*item['quantity']\n",
    "    return total_cost\n",
    "\n",
    "# Example cart data\n",
    "cart =[\n",
    "    {\"name\":\"Apple\",\"Price\":0.5,\"quantity\":4},\n",
    "    {\"name\":\"App\",\"Price\":0.5,\"quantity\":4}\n",
    "]\n",
    "\n",
    "total_cost = calculate_total_cost(cart)\n",
    "print(total_cost)"
   ]
  },
  {
   "cell_type": "markdown",
   "metadata": {},
   "source": [
    "### Check if a string is palindrome"
   ]
  },
  {
   "cell_type": "code",
   "execution_count": 9,
   "metadata": {},
   "outputs": [
    {
     "data": {
      "text/plain": [
       "True"
      ]
     },
     "execution_count": 9,
     "metadata": {},
     "output_type": "execute_result"
    }
   ],
   "source": [
    "def is_palindrome(s):\n",
    "    s = s.lower().replace(\" \",\"\")\n",
    "    return s == s[::-1]\n",
    "\n",
    "is_palindrome(\"A man a plan a canal Panama\")"
   ]
  },
  {
   "cell_type": "code",
   "execution_count": 10,
   "metadata": {},
   "outputs": [
    {
     "data": {
      "text/plain": [
       "True"
      ]
     },
     "execution_count": 10,
     "metadata": {},
     "output_type": "execute_result"
    }
   ],
   "source": [
    "is_palindrome(\"level\")"
   ]
  },
  {
   "cell_type": "code",
   "execution_count": 11,
   "metadata": {},
   "outputs": [
    {
     "data": {
      "text/plain": [
       "False"
      ]
     },
     "execution_count": 11,
     "metadata": {},
     "output_type": "execute_result"
    }
   ],
   "source": [
    "is_palindrome(\"Python\")"
   ]
  },
  {
   "cell_type": "code",
   "execution_count": 12,
   "metadata": {},
   "outputs": [
    {
     "data": {
      "text/plain": [
       "True"
      ]
     },
     "execution_count": 12,
     "metadata": {},
     "output_type": "execute_result"
    }
   ],
   "source": [
    "is_palindrome(\"Malayalam\")"
   ]
  },
  {
   "cell_type": "markdown",
   "metadata": {},
   "source": [
    "### Calculate the factorials of number using recursion"
   ]
  },
  {
   "cell_type": "code",
   "execution_count": 13,
   "metadata": {},
   "outputs": [
    {
     "name": "stdout",
     "output_type": "stream",
     "text": [
      "120\n"
     ]
    }
   ],
   "source": [
    "# recursion means function calling inside function\n",
    "def factorial(n):\n",
    "    if n==0:\n",
    "        return 1\n",
    "    else:\n",
    "        return n*factorial(n-1)\n",
    "    \n",
    "print(factorial(5))   "
   ]
  },
  {
   "cell_type": "markdown",
   "metadata": {},
   "source": [
    "## Lambda Functions in Python\n",
    "Lambda functions are small anonymus functions defined using the lambda keyword.They can have any number of arguments but only one expression.They are used for short operations or as arguments to higher order functions."
   ]
  },
  {
   "cell_type": "code",
   "execution_count": null,
   "metadata": {},
   "outputs": [],
   "source": [
    "# syntax\n",
    "lambda arguments:expression"
   ]
  },
  {
   "cell_type": "code",
   "execution_count": 15,
   "metadata": {},
   "outputs": [
    {
     "name": "stdout",
     "output_type": "stream",
     "text": [
      "<class 'function'>\n"
     ]
    },
    {
     "data": {
      "text/plain": [
       "5"
      ]
     },
     "execution_count": 15,
     "metadata": {},
     "output_type": "execute_result"
    }
   ],
   "source": [
    "addition = lambda a,b:a+b\n",
    "\n",
    "print(type(addition))\n",
    "addition(2,3)"
   ]
  },
  {
   "cell_type": "code",
   "execution_count": 16,
   "metadata": {},
   "outputs": [
    {
     "data": {
      "text/plain": [
       "True"
      ]
     },
     "execution_count": 16,
     "metadata": {},
     "output_type": "execute_result"
    }
   ],
   "source": [
    "even = lambda num:num%2==0\n",
    "even(20)"
   ]
  },
  {
   "cell_type": "code",
   "execution_count": 17,
   "metadata": {},
   "outputs": [
    {
     "data": {
      "text/plain": [
       "53"
      ]
     },
     "execution_count": 17,
     "metadata": {},
     "output_type": "execute_result"
    }
   ],
   "source": [
    "addition1 = lambda a,b,c:a+b+c\n",
    "addition1(10,20,23)"
   ]
  },
  {
   "cell_type": "markdown",
   "metadata": {},
   "source": [
    "## Map function\n",
    "The map() function applies a given function to all items in an input list(or any other iterable) and returns a map object(an iterator).This is particularly useful for transforming data in a list comprehensively"
   ]
  },
  {
   "cell_type": "code",
   "execution_count": 2,
   "metadata": {},
   "outputs": [
    {
     "data": {
      "text/plain": [
       "100"
      ]
     },
     "execution_count": 2,
     "metadata": {},
     "output_type": "execute_result"
    }
   ],
   "source": [
    "def square(x):\n",
    "    return x*x\n",
    "square(10)"
   ]
  },
  {
   "cell_type": "code",
   "execution_count": 3,
   "metadata": {},
   "outputs": [
    {
     "data": {
      "text/plain": [
       "[1, 4, 9, 16, 25, 36, 49, 64]"
      ]
     },
     "execution_count": 3,
     "metadata": {},
     "output_type": "execute_result"
    }
   ],
   "source": [
    "numbers = [1,2,3,4,5,6,7,8]\n",
    "list(map(square,numbers)) # map apply function to each element"
   ]
  },
  {
   "cell_type": "code",
   "execution_count": 21,
   "metadata": {},
   "outputs": [
    {
     "data": {
      "text/plain": [
       "[1, 4, 9, 16, 25]"
      ]
     },
     "execution_count": 21,
     "metadata": {},
     "output_type": "execute_result"
    }
   ],
   "source": [
    "# lambda function with map\n",
    "number = [1,2,3,4,5]\n",
    "\n",
    "square = list(map(lambda number:number**2,number))\n",
    "\n",
    "square"
   ]
  },
  {
   "cell_type": "code",
   "execution_count": 6,
   "metadata": {},
   "outputs": [
    {
     "name": "stdout",
     "output_type": "stream",
     "text": [
      "[7, 9, 11, 13, 15]\n"
     ]
    }
   ],
   "source": [
    "## MAP multiple iterables\n",
    "\n",
    "numbers1 = [1,2,3,4,5]\n",
    "numbers2 = [6,7,8,9,10]\n",
    "\n",
    "added_numbers = list(map(lambda x,y : x+y,numbers1,numbers2))\n",
    "print(added_numbers)"
   ]
  },
  {
   "cell_type": "code",
   "execution_count": 7,
   "metadata": {},
   "outputs": [
    {
     "name": "stdout",
     "output_type": "stream",
     "text": [
      "['APPLE', 'BANANA', 'CHERRY', 'ORANGE']\n"
     ]
    }
   ],
   "source": [
    "words = ['apple','banana','cherry','orange']\n",
    "upper_word = list(map(str.upper,words))\n",
    "print(upper_word)"
   ]
  },
  {
   "cell_type": "code",
   "execution_count": 8,
   "metadata": {},
   "outputs": [
    {
     "data": {
      "text/plain": [
       "['ram', 'krishna']"
      ]
     },
     "execution_count": 8,
     "metadata": {},
     "output_type": "execute_result"
    }
   ],
   "source": [
    "def get_name(person):\n",
    "    return person['name']\n",
    "\n",
    "people = [\n",
    "    {'name':'ram','age':21},\n",
    "    {'name':'krishna','age':23}\n",
    "]\n",
    "\n",
    "list(map(get_name,people))"
   ]
  },
  {
   "cell_type": "markdown",
   "metadata": {},
   "source": [
    "## Filter\n",
    "The filter() function constructs an iterator from elements of an iterable for which a function returns true.\n",
    "\n",
    "It is used to filter out items from a list(or any other iterable) based on a condition.\n"
   ]
  },
  {
   "cell_type": "code",
   "execution_count": 10,
   "metadata": {},
   "outputs": [
    {
     "data": {
      "text/plain": [
       "[2, 4, 6, 8]"
      ]
     },
     "execution_count": 10,
     "metadata": {},
     "output_type": "execute_result"
    }
   ],
   "source": [
    "def even(num):\n",
    "    if num%2==0:\n",
    "        return True\n",
    "\n",
    "lst = [1,2,3,4,5,6,7,8]\n",
    "\n",
    "list(filter(even,lst))"
   ]
  },
  {
   "cell_type": "code",
   "execution_count": 11,
   "metadata": {},
   "outputs": [
    {
     "name": "stdout",
     "output_type": "stream",
     "text": [
      "[6, 7, 8]\n"
     ]
    }
   ],
   "source": [
    "## filter with lambda function\n",
    "\n",
    "numbers = [1,2,3,4,5,6,7,8]\n",
    "\n",
    "greaterthan_five = list(filter(lambda x:x>5,numbers))\n",
    "\n",
    "print(greaterthan_five)"
   ]
  },
  {
   "cell_type": "code",
   "execution_count": 12,
   "metadata": {},
   "outputs": [
    {
     "name": "stdout",
     "output_type": "stream",
     "text": [
      "[6, 8]\n"
     ]
    }
   ],
   "source": [
    "## filter with lambda function and multiple conditions\n",
    "\n",
    "numbers = [1,2,3,4,5,6,7,8]\n",
    "\n",
    "greaterthan_five = list(filter(lambda x:x>5 and  x%2==0,numbers))\n",
    "\n",
    "print(greaterthan_five)"
   ]
  }
 ],
 "metadata": {
  "kernelspec": {
   "display_name": "Python 3 (ipykernel)",
   "language": "python",
   "name": "python3"
  },
  "language_info": {
   "codemirror_mode": {
    "name": "ipython",
    "version": 3
   },
   "file_extension": ".py",
   "mimetype": "text/x-python",
   "name": "python",
   "nbconvert_exporter": "python",
   "pygments_lexer": "ipython3",
   "version": "3.11.3"
  }
 },
 "nbformat": 4,
 "nbformat_minor": 2
}
